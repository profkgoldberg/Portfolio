{
  "cells": [
    {
      "cell_type": "markdown",
      "source": [
        "As a data scientist focused on building and testing sentiment analysis pipelines, creating synthetic datasets with varied sentiments is a crucial step. This Google Colab notebook will guide you through generating 200 rows of such data and saving it as a CSV file.\n",
        "\n",
        "### Google Colab Notebook: Synthetic Course Evaluation Data Generation\n",
        "\n",
        "This notebook generates a synthetic dataset of course evaluation responses, including `student_id`, `course_id`, and `open_text_response` with varied sentiments, suitable for text analytics and sentiment analysis testing.\n",
        "\n",
        "-----\n",
        "\n",
        "### **Step 1: Install Necessary Libraries**\n",
        "\n",
        "First, we need to install the `Faker` library, which is excellent for generating realistic-looking fake data like IDs. `pandas` is typically pre-installed in Google Colab, but we'll include it for completeness."
      ],
      "metadata": {
        "id": "OSk55FYTuoCr"
      }
    },
    {
      "cell_type": "code",
      "source": [
        "# Install Faker library\n",
        "!pip install Faker pandas"
      ],
      "outputs": [
        {
          "output_type": "stream",
          "name": "stdout",
          "text": [
            "Collecting Faker\n",
            "  Downloading faker-37.4.0-py3-none-any.whl.metadata (15 kB)\n",
            "Requirement already satisfied: pandas in /usr/local/lib/python3.11/dist-packages (2.2.2)\n",
            "Requirement already satisfied: tzdata in /usr/local/lib/python3.11/dist-packages (from Faker) (2025.2)\n",
            "Requirement already satisfied: numpy>=1.23.2 in /usr/local/lib/python3.11/dist-packages (from pandas) (2.0.2)\n",
            "Requirement already satisfied: python-dateutil>=2.8.2 in /usr/local/lib/python3.11/dist-packages (from pandas) (2.9.0.post0)\n",
            "Requirement already satisfied: pytz>=2020.1 in /usr/local/lib/python3.11/dist-packages (from pandas) (2025.2)\n",
            "Requirement already satisfied: six>=1.5 in /usr/local/lib/python3.11/dist-packages (from python-dateutil>=2.8.2->pandas) (1.17.0)\n",
            "Downloading faker-37.4.0-py3-none-any.whl (1.9 MB)\n",
            "\u001b[2K   \u001b[90m━━━━━━━━━━━━━━━━━━━━━━━━━━━━━━━━━━━━━━━━\u001b[0m \u001b[32m1.9/1.9 MB\u001b[0m \u001b[31m26.4 MB/s\u001b[0m eta \u001b[36m0:00:00\u001b[0m\n",
            "\u001b[?25hInstalling collected packages: Faker\n",
            "Successfully installed Faker-37.4.0\n"
          ]
        }
      ],
      "execution_count": 1,
      "metadata": {
        "colab": {
          "base_uri": "https://localhost:8080/"
        },
        "id": "Ts8BDZWDuoCw",
        "outputId": "f5c69295-da3d-48d3-c10c-fdd024687446"
      }
    },
    {
      "cell_type": "markdown",
      "source": [
        "-----\n",
        "\n",
        "### **Step 2: Import Libraries**\n",
        "\n",
        "Next, we import the required libraries: `pandas` for data manipulation, `random` for choosing random elements, and `Faker` for generating unique IDs."
      ],
      "metadata": {
        "id": "mcrHViGuuoCy"
      }
    },
    {
      "cell_type": "code",
      "source": [
        "import pandas as pd\n",
        "import random\n",
        "from faker import Faker"
      ],
      "outputs": [],
      "execution_count": 2,
      "metadata": {
        "id": "9wIwKewPuoCy"
      }
    },
    {
      "cell_type": "markdown",
      "source": [
        "-----\n",
        "\n",
        "### **Step 3: Initialize Faker and Define Sentiments**\n",
        "\n",
        "We initialize the `Faker` object to generate unique student and course IDs. We also define a comprehensive list of open-text responses, carefully crafted to represent a wide range of sentiments, from very positive to very negative, and neutral."
      ],
      "metadata": {
        "id": "KKc2Z4ctuoCy"
      }
    },
    {
      "cell_type": "code",
      "source": [
        "# Initialize Faker for generating student and course IDs\n",
        "fake = Faker()\n",
        "\n",
        "# Define a variety of open-text responses reflecting different sentiments\n",
        "sentiments = [\n",
        "    \"This course was incredibly insightful and well-structured. I learned a great deal!\",\n",
        "    \"The instructor was excellent and very engaging. Highly recommend this class.\",\n",
        "    \"I found the material somewhat dry, but the assignments were helpful.\",\n",
        "    \"This course exceeded my expectations! The content was relevant and delivery was superb.\",\n",
        "    \"A bit challenging at times, but ultimately rewarding. Good support from the TA.\",\n",
        "    \"The lectures were often hard to follow, and I felt lost more than once.\",\n",
        "    \"Definitely one of the best courses I've taken. Everything was clearly explained.\",\n",
        "    \"I wish there was more interaction in class. It felt very lecture-heavy.\",\n",
        "    \"The workload was manageable, and the topics were interesting.\",\n",
        "    \"Not very organized. I struggled to keep track of deadlines and expectations.\",\n",
        "    \"Fantastic course! I particularly enjoyed the practical exercises.\",\n",
        "    \"The readings were extensive, but they provided a solid foundation.\",\n",
        "    \"I felt the pace was too fast, making it difficult to fully grasp concepts.\",\n",
        "    \"Good overall, but I think some topics could have been explored in more depth.\",\n",
        "    \"This course completely changed my perspective on the subject. Amazing!\",\n",
        "    \"The instructor was approachable and always willing to help.\",\n",
        "    \"Some of the assignments felt disconnected from the lecture material.\",\n",
        "    \"I would recommend this course to anyone interested in the topic. Very enriching.\",\n",
        "    \"Honestly, I was quite bored throughout the course. Needs more engaging content.\",\n",
        "    \"The group projects were a great way to apply what we learned.\",\n",
        "    \"The online platform was clunky and made it hard to access resources.\",\n",
        "    \"The feedback on assignments was constructive and helped me improve.\",\n",
        "    \"Could use more real-world examples to make the theory more relatable.\",\n",
        "    \"Overall a positive experience, although a bit challenging.\",\n",
        "    \"The course content was outdated in some areas.\",\n",
        "    \"Excellent teaching, clear objectives, and fair assessments.\",\n",
        "    \"I struggled with the technical aspects; more hands-on help would have been appreciated.\",\n",
        "    \"Learned a lot and felt well-supported by the teaching staff.\",\n",
        "    \"The class discussions were lively and added a lot to my understanding.\",\n",
        "    \"Too much reliance on self-study; I prefer more direct instruction.\",\n",
        "    \"One of my favorite courses so far!\",\n",
        "    \"Average course, nothing particularly stood out.\",\n",
        "    \"Very disappointing. I expected more from this course.\",\n",
        "    \"Highly relevant to my career goals.\",\n",
        "    \"The grading criteria were unclear at times.\",\n",
        "    \"A solid foundation, but could be more advanced.\",\n",
        "    \"Instructor was passionate, but the material was dry.\",\n",
        "    \"I enjoyed the guest speakers.\",\n",
        "    \"The course website was well-organized.\",\n",
        "    \"Needed more opportunities for feedback.\",\n",
        "    \"It was okay. Not bad, not great.\",\n",
        "    \"This course was a waste of time.\",\n",
        "    \"Challenging but rewarding.\",\n",
        "    \"Too much busy work.\",\n",
        "    \"Very practical and useful.\",\n",
        "    \"The instructor was a bit unapproachable.\",\n",
        "    \"I learned so much!\",\n",
        "    \"Confusing and disorganized.\",\n",
        "    \"Highly recommended for anyone in the field.\",\n",
        "    \"The lectures were engaging and easy to follow.\"\n",
        "]"
      ],
      "outputs": [],
      "execution_count": 3,
      "metadata": {
        "id": "GrKa9cHDuoCz"
      }
    },
    {
      "cell_type": "markdown",
      "source": [
        "-----\n",
        "\n",
        "### **Step 4: Generate Data**\n",
        "\n",
        "Now, we'll generate 200 rows of data. For each row, we'll create a unique `student_id`, a `course_id` (combining a random department prefix with a unique number), and a randomly selected `open_text_response` from our predefined list."
      ],
      "metadata": {
        "id": "l2pByFMluoCz"
      }
    },
    {
      "cell_type": "code",
      "source": [
        "# Generate 200 rows of data\n",
        "data = []\n",
        "for _ in range(200):\n",
        "    student_id = fake.unique.random_number(digits=6)\n",
        "    course_id = f\"{random.choice(['CS', 'MA', 'EN', 'HI', 'PY'])}{fake.unique.random_number(digits=3)}\"\n",
        "    response = random.choice(sentiments)\n",
        "    data.append([student_id, course_id, response])"
      ],
      "outputs": [],
      "execution_count": 4,
      "metadata": {
        "id": "g7DH3pW2uoC0"
      }
    },
    {
      "cell_type": "markdown",
      "source": [
        "-----\n",
        "\n",
        "### **Step 5: Create Pandas DataFrame**\n",
        "\n",
        "After generating the raw data, we convert it into a Pandas DataFrame for easy manipulation and saving."
      ],
      "metadata": {
        "id": "vqwDNruyuoC0"
      }
    },
    {
      "cell_type": "code",
      "source": [
        "# Create a Pandas DataFrame\n",
        "df = pd.DataFrame(data, columns=['student_id', 'course_id', 'open_text_response'])\n",
        "\n",
        "# Display the first few rows of the DataFrame to verify\n",
        "print(\"First 5 rows of the generated DataFrame:\")\n",
        "print(df.head())\n",
        "print(f\"\\nTotal rows generated: {len(df)}\")"
      ],
      "outputs": [
        {
          "output_type": "stream",
          "name": "stdout",
          "text": [
            "First 5 rows of the generated DataFrame:\n",
            "   student_id course_id                                 open_text_response\n",
            "0      165567     MA104                 One of my favorite courses so far!\n",
            "1      814981     EN800  The class discussions were lively and added a ...\n",
            "2      262868     PY638                         Challenging but rewarding.\n",
            "3      605941     EN266  A bit challenging at times, but ultimately rew...\n",
            "4      708665     HI147  This course was incredibly insightful and well...\n",
            "\n",
            "Total rows generated: 200\n"
          ]
        }
      ],
      "execution_count": 5,
      "metadata": {
        "colab": {
          "base_uri": "https://localhost:8080/"
        },
        "id": "hQRYVtPLuoC0",
        "outputId": "4d14c603-f198-4588-85cd-1e151f751e8d"
      }
    },
    {
      "cell_type": "markdown",
      "source": [
        "-----\n",
        "\n",
        "### **Step 6: Save Data to CSV File**\n",
        "\n",
        "Finally, we save the generated DataFrame as a CSV file. In Google Colab, this file will be saved to the temporary file system. You can then download it directly or mount your Google Drive to save it there permanently."
      ],
      "metadata": {
        "id": "R6xx4YhDuoC0"
      }
    },
    {
      "cell_type": "code",
      "source": [
        "# Define the output filename\n",
        "output_filename = 'course_evaluations.csv'\n",
        "\n",
        "# Save the DataFrame to a CSV file\n",
        "df.to_csv(output_filename, index=False)\n",
        "\n",
        "print(f\"\\nSuccessfully generated 200 rows of synthetic course evaluation data and saved to '{output_filename}'\")\n",
        "\n",
        "# To download the file to your local machine (optional)\n",
        "from google.colab import files\n",
        "files.download(output_filename)\n",
        "\n",
        "# To save to Google Drive (optional - uncomment and run if you want to save to Drive)\n",
        "# from google.colab import drive\n",
        "# drive.mount('/content/drive')\n",
        "# drive_path = f'/content/drive/My Drive/{output_filename}'\n",
        "# df.to_csv(drive_path, index=False)\n",
        "# print(f\"\\nAlso saved to Google Drive at: '{drive_path}'\")"
      ],
      "outputs": [
        {
          "output_type": "stream",
          "name": "stdout",
          "text": [
            "\n",
            "Successfully generated 200 rows of synthetic course evaluation data and saved to 'course_evaluations.csv'\n"
          ]
        },
        {
          "output_type": "display_data",
          "data": {
            "text/plain": [
              "<IPython.core.display.Javascript object>"
            ],
            "application/javascript": [
              "\n",
              "    async function download(id, filename, size) {\n",
              "      if (!google.colab.kernel.accessAllowed) {\n",
              "        return;\n",
              "      }\n",
              "      const div = document.createElement('div');\n",
              "      const label = document.createElement('label');\n",
              "      label.textContent = `Downloading \"${filename}\": `;\n",
              "      div.appendChild(label);\n",
              "      const progress = document.createElement('progress');\n",
              "      progress.max = size;\n",
              "      div.appendChild(progress);\n",
              "      document.body.appendChild(div);\n",
              "\n",
              "      const buffers = [];\n",
              "      let downloaded = 0;\n",
              "\n",
              "      const channel = await google.colab.kernel.comms.open(id);\n",
              "      // Send a message to notify the kernel that we're ready.\n",
              "      channel.send({})\n",
              "\n",
              "      for await (const message of channel.messages) {\n",
              "        // Send a message to notify the kernel that we're ready.\n",
              "        channel.send({})\n",
              "        if (message.buffers) {\n",
              "          for (const buffer of message.buffers) {\n",
              "            buffers.push(buffer);\n",
              "            downloaded += buffer.byteLength;\n",
              "            progress.value = downloaded;\n",
              "          }\n",
              "        }\n",
              "      }\n",
              "      const blob = new Blob(buffers, {type: 'application/binary'});\n",
              "      const a = document.createElement('a');\n",
              "      a.href = window.URL.createObjectURL(blob);\n",
              "      a.download = filename;\n",
              "      div.appendChild(a);\n",
              "      a.click();\n",
              "      div.remove();\n",
              "    }\n",
              "  "
            ]
          },
          "metadata": {}
        },
        {
          "output_type": "display_data",
          "data": {
            "text/plain": [
              "<IPython.core.display.Javascript object>"
            ],
            "application/javascript": [
              "download(\"download_ed7548fb-7792-4168-a47c-6ee011a14c38\", \"course_evaluations.csv\", 14391)"
            ]
          },
          "metadata": {}
        }
      ],
      "execution_count": 6,
      "metadata": {
        "colab": {
          "base_uri": "https://localhost:8080/",
          "height": 53
        },
        "id": "jw38NBkEuoC1",
        "outputId": "28201a28-b139-4735-bc25-4bc9b2319664"
      }
    },
    {
      "cell_type": "markdown",
      "source": [
        "-----"
      ],
      "metadata": {
        "id": "iT4eNgt2uoC1"
      }
    }
  ],
  "metadata": {
    "colab": {
      "provenance": []
    },
    "kernelspec": {
      "display_name": "Python 3",
      "name": "python3"
    }
  },
  "nbformat": 4,
  "nbformat_minor": 0
}